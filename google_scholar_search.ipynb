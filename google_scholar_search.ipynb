{
 "cells": [
  {
   "cell_type": "markdown",
   "metadata": {},
   "source": [
    "# Imports"
   ]
  },
  {
   "cell_type": "code",
   "execution_count": null,
   "metadata": {},
   "outputs": [],
   "source": [
    "from scholarly import scholarly\n",
    "import pandas as pd"
   ]
  },
  {
   "cell_type": "markdown",
   "metadata": {},
   "source": [
    "# Function to retrieve scholarly publications data"
   ]
  },
  {
   "cell_type": "code",
   "execution_count": null,
   "metadata": {},
   "outputs": [],
   "source": [
    "def search_google_scholar(keyword, from_year, num_results=20):\n",
    "    \"\"\"\n",
    "    Search Google Scholar for scholarly publications based on a keyword and time range.\n",
    "\n",
    "    Parameters:\n",
    "    - keyword (str): The keyword to search for in Google Scholar.\n",
    "    - from_year (int): The starting year for filtering publications.\n",
    "    - num_results (int, optional): The number of results to fetch. Defaults to 20.\n",
    "\n",
    "    Returns:\n",
    "    pandas.DataFrame: A DataFrame containing information about scholarly publications\n",
    "                      that match the criteria (title, authors, year, citation count,\n",
    "                      abstract, eprint, url, venue, and Google Scholar link).\n",
    "    \"\"\"\n",
    "    # Perform Google Scholar search\n",
    "    search_query = scholarly.search_pubs(keyword)\n",
    "\n",
    "    # Initialize data dictionary to store publication information\n",
    "    data = {\n",
    "        'Title': [],\n",
    "        'Authors': [],\n",
    "        'Year': [],\n",
    "        'Citation Count': [],\n",
    "        'Citations Per Year': [],\n",
    "        'Venue': [],\n",
    "        'Abstract': [],\n",
    "        'Eprint': [],\n",
    "        'URL': [],\n",
    "        'Google Scholar Link': []\n",
    "    }\n",
    "\n",
    "    # Get the current year\n",
    "    current_year = pd.Timestamp.now().year  \n",
    "\n",
    "    # Iterate through search results and retrieve publication information\n",
    "    for result in search_query:\n",
    "        try:\n",
    "            # Extract information from the 'bib' attribute\n",
    "            publication_info = result.get('bib', {})\n",
    "            title, authors, year = publication_info.get('title', 'N/A'), publication_info.get('author', ['N/A']), publication_info.get('pub_year', 'N/A')\n",
    "            citation_count, abstract, eprint = result.get('num_citations', 0), publication_info.get('abstract', 'N/A'), result.get('eprint_url', 'N/A')\n",
    "            url, venue, scholar_link = result.get('pub_url', 'N/A'), publication_info.get('venue', 'N/A'), result.get('url_scholarbib', 'N/A')\n",
    "\n",
    "            # Check if title, year, and authors are available and citation count meets criteria\n",
    "            if title != 'N/A' and year != 'N/A' and authors != 'N/A' and citation_count >= 10:\n",
    "                data['Title'].append(title)\n",
    "                data['Authors'].append(', '.join(authors))\n",
    "                data['Year'].append(year)\n",
    "                data['Citation Count'].append(citation_count)\n",
    "                data['Citations Per Year'].append(round(citation_count / (current_year - int(year)), 1))\n",
    "                data['Venue'].append(venue)\n",
    "                data['Abstract'].append(abstract)\n",
    "                data['Eprint'].append(eprint)\n",
    "                data['URL'].append(url)\n",
    "                data['Google Scholar Link'].append(scholar_link)\n",
    "\n",
    "                # Check if enough results have been retrieved\n",
    "                if len(data['Title']) == num_results:\n",
    "                    break\n",
    "\n",
    "        except Exception as e:\n",
    "            # Log or handle the exception\n",
    "            print(f\"An error occurred: {e}\")\n",
    "            continue  # Skip to the next iteration\n",
    "\n",
    "    # Convert data dictionary to a pandas DataFrame\n",
    "    df = pd.DataFrame(data)\n",
    "    \n",
    "    # Sort the DataFrame by 'Citation Count' in descending order\n",
    "    df = df.sort_values(by='Citation Count', ascending=False)\n",
    "    \n",
    "    return df"
   ]
  },
  {
   "cell_type": "markdown",
   "metadata": {},
   "source": [
    "# Run the function and display the data"
   ]
  },
  {
   "cell_type": "code",
   "execution_count": null,
   "metadata": {},
   "outputs": [],
   "source": [
    "scholar_publications = search_google_scholar('feature selection', 2000)\n",
    "scholar_publications"
   ]
  }
 ],
 "metadata": {
  "kernelspec": {
   "display_name": "Python 3",
   "language": "python",
   "name": "python3"
  },
  "language_info": {
   "name": "python",
   "version": "3.9.6"
  }
 },
 "nbformat": 4,
 "nbformat_minor": 2
}
